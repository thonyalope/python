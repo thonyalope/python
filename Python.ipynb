{
 "cells": [
  {
   "cell_type": "markdown",
   "id": "e59bc810",
   "metadata": {},
   "source": [
    "# Variables"
   ]
  },
  {
   "cell_type": "code",
   "execution_count": null,
   "id": "97084416",
   "metadata": {},
   "outputs": [],
   "source": [
    "# Variables\n",
    "x = 22\n",
    "print(x)\n",
    "\n",
    "type(x)\n",
    "\n",
    "# Case Sensitivity\n",
    "y = 'Chocolate'\n",
    "Y = 'Mint Chocolate Chip'\n",
    "\n",
    "print(Y)"
   ]
  },
  {
   "cell_type": "markdown",
   "id": "475b7495",
   "metadata": {},
   "source": [
    "# Statements & Operators"
   ]
  },
  {
   "cell_type": "code",
   "execution_count": null,
   "id": "0cda96e8",
   "metadata": {},
   "outputs": [],
   "source": [
    "# IF Statements\n",
    "price = 75\n",
    "\n",
    "if price < 10:\n",
    "    print('The price is ' + str(price) + ' dollars. This is Cheap') #Add the str() after showing how it won't work - or use comma\n",
    "elif price < 40:\n",
    "    print('The price is ' + str(price) + ' dollars. This is a not very expensive')\n",
    "elif price < 100:\n",
    "    print('The price is ' + str(price) + ' dollars. This is somewhat expensive')\n",
    "else:\n",
    "    print('The price is ' + price + ' dollars. This is very expensive!')"
   ]
  },
  {
   "cell_type": "code",
   "execution_count": null,
   "id": "813fc0be",
   "metadata": {},
   "outputs": [],
   "source": [
    "small_sale = []\n",
    "medium_sale = []\n",
    "large_sale = []"
   ]
  },
  {
   "cell_type": "code",
   "execution_count": null,
   "id": "77c7a837",
   "metadata": {},
   "outputs": [],
   "source": [
    "sale = 200"
   ]
  },
  {
   "cell_type": "code",
   "execution_count": null,
   "id": "2d96d6a8",
   "metadata": {},
   "outputs": [],
   "source": [
    "if sale < 20:\n",
    "    small_sale.append(sale)\n",
    "elif sale < 50:\n",
    "    medium_sale.append(sale)\n",
    "else:\n",
    "    large_sale.append(sale)"
   ]
  },
  {
   "cell_type": "code",
   "execution_count": null,
   "id": "970a7a37",
   "metadata": {},
   "outputs": [],
   "source": [
    "print('Small Sale: ', small_sale)\n",
    "print('Medium Sale: ', medium_sale)\n",
    "print('Large Sale: ', large_sale)"
   ]
  },
  {
   "cell_type": "markdown",
   "id": "3c33ad92",
   "metadata": {},
   "source": [
    "# FOR Loops"
   ]
  },
  {
   "cell_type": "code",
   "execution_count": null,
   "id": "c999f014",
   "metadata": {},
   "outputs": [],
   "source": [
    "sale_amount = [1,20.70,35.2,50,100,125,70.59,106.21,700]"
   ]
  },
  {
   "cell_type": "code",
   "execution_count": null,
   "id": "18b2c8d1",
   "metadata": {},
   "outputs": [],
   "source": [
    "small_sale = []\n",
    "medium_sale = []\n",
    "large_sale = []"
   ]
  },
  {
   "cell_type": "code",
   "execution_count": null,
   "id": "94c9f2f6",
   "metadata": {},
   "outputs": [],
   "source": [
    "for sale in sale_amount:\n",
    "    if sale < 50:\n",
    "        small_sale.append(sale)\n",
    "    elif sale < 100:\n",
    "        medium_sale.append(sale)\n",
    "    else:\n",
    "        large_sale.append(sale)"
   ]
  },
  {
   "cell_type": "code",
   "execution_count": null,
   "id": "cbada2dc",
   "metadata": {},
   "outputs": [],
   "source": [
    "print('Small Sale: ', small_sale)\n",
    "print('Medium Sale: ', medium_sale)\n",
    "print('Large Sale: ', large_sale)"
   ]
  },
  {
   "cell_type": "markdown",
   "id": "b31a958c",
   "metadata": {},
   "source": [
    "# Functions"
   ]
  },
  {
   "cell_type": "code",
   "execution_count": null,
   "id": "80caa765",
   "metadata": {},
   "outputs": [],
   "source": [
    "def first_func():\n",
    "    print('We called our first function!')"
   ]
  },
  {
   "cell_type": "code",
   "execution_count": null,
   "id": "b0f166f4",
   "metadata": {},
   "outputs": [],
   "source": [
    "def first_func(name):\n",
    "    print(name,'did it!')\n",
    "    \n",
    "first_func('Alex')"
   ]
  },
  {
   "cell_type": "code",
   "execution_count": null,
   "id": "92fa656a",
   "metadata": {},
   "outputs": [],
   "source": [
    "# Print vs. return\n",
    "def return_example():\n",
    "    return 100\n",
    "\n",
    "return_example()\n",
    "\n",
    "def print_example():\n",
    "    print(100)\n",
    "\n",
    "print_example()\n",
    "\n",
    "#For this we will get an error\n",
    "print_example() + 100\n",
    "\n",
    "#This will give us an output and perform the calculation\n",
    "return_example() + 100"
   ]
  },
  {
   "cell_type": "markdown",
   "id": "b03b87e7",
   "metadata": {},
   "source": [
    "# Converting Data Types"
   ]
  },
  {
   "cell_type": "code",
   "execution_count": null,
   "id": "bc00edf8",
   "metadata": {},
   "outputs": [],
   "source": [
    "num_int = 7\n",
    "type(num_int)"
   ]
  },
  {
   "cell_type": "code",
   "execution_count": null,
   "id": "686c507a",
   "metadata": {},
   "outputs": [],
   "source": [
    "num_str = '7'\n",
    "type(num_str)"
   ]
  },
  {
   "cell_type": "code",
   "execution_count": null,
   "id": "7498cdbf",
   "metadata": {},
   "outputs": [],
   "source": [
    "num_str_conv = int(num_str)\n",
    "type(num_str_conv)"
   ]
  },
  {
   "cell_type": "code",
   "execution_count": null,
   "id": "33aab343",
   "metadata": {},
   "outputs": [],
   "source": [
    "num_sum = num_int + num_str_conv\n",
    "print(num_sum)"
   ]
  },
  {
   "cell_type": "code",
   "execution_count": null,
   "id": "fe0b2c9a",
   "metadata": {},
   "outputs": [],
   "source": [
    "type(num_sum)"
   ]
  },
  {
   "cell_type": "code",
   "execution_count": null,
   "id": "7fa9ee06",
   "metadata": {},
   "outputs": [],
   "source": [
    "list_type = [1,2,3]\n",
    "type(list_type)"
   ]
  },
  {
   "cell_type": "code",
   "execution_count": null,
   "id": "3c23d3df",
   "metadata": {},
   "outputs": [],
   "source": [
    "type(tuple(list_type))"
   ]
  },
  {
   "cell_type": "code",
   "execution_count": null,
   "id": "1be758ba",
   "metadata": {},
   "outputs": [],
   "source": [
    "list_type = [1,2,3,3,2,1,2,3,2,1]"
   ]
  },
  {
   "cell_type": "code",
   "execution_count": null,
   "id": "2bbd3afe",
   "metadata": {},
   "outputs": [],
   "source": [
    "set(list_type)"
   ]
  },
  {
   "cell_type": "code",
   "execution_count": null,
   "id": "dd67f626",
   "metadata": {},
   "outputs": [],
   "source": [
    "dict_type = {'name': 'Alex','age':28, 'hair': 'N/A'}\n",
    "type(dict_type)"
   ]
  },
  {
   "cell_type": "code",
   "execution_count": null,
   "id": "8e9690e6",
   "metadata": {},
   "outputs": [],
   "source": [
    "dict_type.items()"
   ]
  },
  {
   "cell_type": "code",
   "execution_count": null,
   "id": "ab302bdf",
   "metadata": {},
   "outputs": [],
   "source": [
    "dict_type.values()"
   ]
  },
  {
   "cell_type": "code",
   "execution_count": null,
   "id": "ed89efb7",
   "metadata": {},
   "outputs": [],
   "source": [
    "dict_type.keys()"
   ]
  },
  {
   "cell_type": "code",
   "execution_count": null,
   "id": "19bc8712",
   "metadata": {},
   "outputs": [],
   "source": [
    "type(list(dict_type.keys()))"
   ]
  },
  {
   "cell_type": "code",
   "execution_count": null,
   "id": "f35795f7",
   "metadata": {},
   "outputs": [],
   "source": [
    "type(list(dict_type.values()))"
   ]
  }
 ],
 "metadata": {
  "kernelspec": {
   "display_name": "Python 3 (ipykernel)",
   "language": "python",
   "name": "python3"
  },
  "language_info": {
   "codemirror_mode": {
    "name": "ipython",
    "version": 3
   },
   "file_extension": ".py",
   "mimetype": "text/x-python",
   "name": "python",
   "nbconvert_exporter": "python",
   "pygments_lexer": "ipython3",
   "version": "3.11.5"
  }
 },
 "nbformat": 4,
 "nbformat_minor": 5
}
