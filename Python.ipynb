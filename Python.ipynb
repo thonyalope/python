{
 "cells": [
  {
   "cell_type": "markdown",
   "id": "e59bc810",
   "metadata": {},
   "source": [
    "# Variables"
   ]
  },
  {
   "cell_type": "code",
   "execution_count": 1,
   "id": "97084416",
   "metadata": {},
   "outputs": [],
   "source": [
    "# How to Declare and use a Variable"
   ]
  },
  {
   "cell_type": "code",
   "execution_count": 2,
   "id": "ae49f7fa",
   "metadata": {},
   "outputs": [],
   "source": [
    "x = 22"
   ]
  },
  {
   "cell_type": "code",
   "execution_count": 3,
   "id": "694dc2e3",
   "metadata": {},
   "outputs": [],
   "source": [
    "# So the 22 is being stored in memory - not currently being used"
   ]
  },
  {
   "cell_type": "code",
   "execution_count": 4,
   "id": "ecb6bf7d",
   "metadata": {},
   "outputs": [
    {
     "name": "stdout",
     "output_type": "stream",
     "text": [
      "22\n"
     ]
    }
   ],
   "source": [
    "print(x)"
   ]
  },
  {
   "cell_type": "code",
   "execution_count": null,
   "id": "a7c705ae",
   "metadata": {},
   "outputs": [],
   "source": [
    "# It will automatically assign a data type for your variable."
   ]
  },
  {
   "cell_type": "code",
   "execution_count": 7,
   "id": "cc88ce06",
   "metadata": {},
   "outputs": [
    {
     "data": {
      "text/plain": [
       "int"
      ]
     },
     "execution_count": 7,
     "metadata": {},
     "output_type": "execute_result"
    }
   ],
   "source": [
    "type(x)"
   ]
  },
  {
   "cell_type": "code",
   "execution_count": 8,
   "id": "c821db73",
   "metadata": {},
   "outputs": [],
   "source": [
    "# Case Sensitivity"
   ]
  },
  {
   "cell_type": "code",
   "execution_count": 9,
   "id": "f5ac5ca2",
   "metadata": {},
   "outputs": [],
   "source": [
    "y = 'Chocolate'"
   ]
  },
  {
   "cell_type": "code",
   "execution_count": 10,
   "id": "c72a60e1",
   "metadata": {},
   "outputs": [],
   "source": [
    "Y = 'Mint Chocolate Chip'"
   ]
  },
  {
   "cell_type": "code",
   "execution_count": 11,
   "id": "72afe5e9",
   "metadata": {},
   "outputs": [
    {
     "name": "stdout",
     "output_type": "stream",
     "text": [
      "Mint Chocolate Chip\n"
     ]
    }
   ],
   "source": [
    "print(Y)"
   ]
  },
  {
   "cell_type": "markdown",
   "id": "4f5484c5",
   "metadata": {},
   "source": [
    "# Statements & Operators"
   ]
  },
  {
   "cell_type": "code",
   "execution_count": 12,
   "id": "f83c4227",
   "metadata": {},
   "outputs": [],
   "source": [
    "# IF Statements"
   ]
  },
  {
   "cell_type": "code",
   "execution_count": 13,
   "id": "179856b2",
   "metadata": {},
   "outputs": [],
   "source": [
    "price = 75"
   ]
  },
  {
   "cell_type": "code",
   "execution_count": 14,
   "id": "629b5350",
   "metadata": {},
   "outputs": [
    {
     "name": "stdout",
     "output_type": "stream",
     "text": [
      "The price is 75 dollars. This is somewhat expensive\n"
     ]
    }
   ],
   "source": [
    "if price < 10:\n",
    "    print('The price is ' + str(price) + ' dollars. This is Cheap') #Add the str() after showing how it won't work - or use comma\n",
    "elif price < 40:\n",
    "    print('The price is ' + str(price) + ' dollars. This is a not very expensive')\n",
    "elif price < 100:\n",
    "    print('The price is ' + str(price) + ' dollars. This is somewhat expensive')\n",
    "else:\n",
    "    print('The price is ' + price + ' dollars. This is very expensive!')"
   ]
  },
  {
   "cell_type": "code",
   "execution_count": 15,
   "id": "58b3f9c2",
   "metadata": {},
   "outputs": [],
   "source": [
    "small_sale = []\n",
    "medium_sale = []\n",
    "large_sale = []"
   ]
  },
  {
   "cell_type": "code",
   "execution_count": 16,
   "id": "b0c9057a",
   "metadata": {},
   "outputs": [],
   "source": [
    "sale = 200"
   ]
  },
  {
   "cell_type": "code",
   "execution_count": 18,
   "id": "5cfa787e",
   "metadata": {},
   "outputs": [],
   "source": [
    "if sale < 20:\n",
    "    small_sale.append(sale)\n",
    "elif sale < 50:\n",
    "    medium_sale.append(sale)\n",
    "else:\n",
    "    large_sale.append(sale)"
   ]
  },
  {
   "cell_type": "code",
   "execution_count": 19,
   "id": "51efa559",
   "metadata": {},
   "outputs": [
    {
     "name": "stdout",
     "output_type": "stream",
     "text": [
      "Small Sale:  []\n",
      "Medium Sale:  []\n",
      "Large Sale:  [200, 200]\n"
     ]
    }
   ],
   "source": [
    "print('Small Sale: ', small_sale)\n",
    "print('Medium Sale: ', medium_sale)\n",
    "print('Large Sale: ', large_sale)"
   ]
  },
  {
   "cell_type": "markdown",
   "id": "728d2804",
   "metadata": {},
   "source": [
    "# FOR Loops"
   ]
  },
  {
   "cell_type": "code",
   "execution_count": 1,
   "id": "c1e33519",
   "metadata": {},
   "outputs": [],
   "source": [
    "sale_amount = [1,20.70,35.2,50,100,125,70.59,106.21,700]"
   ]
  },
  {
   "cell_type": "code",
   "execution_count": 2,
   "id": "6bedbcbc",
   "metadata": {},
   "outputs": [],
   "source": [
    "small_sale = []\n",
    "medium_sale = []\n",
    "large_sale = []"
   ]
  },
  {
   "cell_type": "code",
   "execution_count": 3,
   "id": "fb4b98d2",
   "metadata": {},
   "outputs": [],
   "source": [
    "for sale in sale_amount:\n",
    "    if sale < 50:\n",
    "        small_sale.append(sale)\n",
    "    elif sale < 100:\n",
    "        medium_sale.append(sale)\n",
    "    else:\n",
    "        large_sale.append(sale)"
   ]
  },
  {
   "cell_type": "code",
   "execution_count": 4,
   "id": "20be6ba3",
   "metadata": {},
   "outputs": [
    {
     "name": "stdout",
     "output_type": "stream",
     "text": [
      "Small Sale:  [1, 20.7, 35.2]\n",
      "Medium Sale:  [50, 70.59]\n",
      "Large Sale:  [100, 125, 106.21, 700]\n"
     ]
    }
   ],
   "source": [
    "print('Small Sale: ', small_sale)\n",
    "print('Medium Sale: ', medium_sale)\n",
    "print('Large Sale: ', large_sale)"
   ]
  },
  {
   "cell_type": "code",
   "execution_count": null,
   "id": "398f9ddc",
   "metadata": {},
   "outputs": [],
   "source": []
  }
 ],
 "metadata": {
  "kernelspec": {
   "display_name": "Python 3 (ipykernel)",
   "language": "python",
   "name": "python3"
  },
  "language_info": {
   "codemirror_mode": {
    "name": "ipython",
    "version": 3
   },
   "file_extension": ".py",
   "mimetype": "text/x-python",
   "name": "python",
   "nbconvert_exporter": "python",
   "pygments_lexer": "ipython3",
   "version": "3.11.5"
  }
 },
 "nbformat": 4,
 "nbformat_minor": 5
}
