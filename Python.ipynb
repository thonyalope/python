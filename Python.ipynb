{
 "cells": [
  {
   "cell_type": "markdown",
   "id": "87bf234b",
   "metadata": {},
   "source": [
    "# Variables"
   ]
  },
  {
   "cell_type": "code",
   "execution_count": 1,
   "id": "04567e78",
   "metadata": {},
   "outputs": [],
   "source": [
    "# How to Declare and use a Variable"
   ]
  },
  {
   "cell_type": "code",
   "execution_count": 2,
   "id": "2f2594cf",
   "metadata": {},
   "outputs": [],
   "source": [
    "x = 22"
   ]
  },
  {
   "cell_type": "code",
   "execution_count": 3,
   "id": "ef0391a6",
   "metadata": {},
   "outputs": [],
   "source": [
    "# So the 22 is being stored in memory - not currently being used"
   ]
  },
  {
   "cell_type": "code",
   "execution_count": 4,
   "id": "0475f019",
   "metadata": {},
   "outputs": [
    {
     "name": "stdout",
     "output_type": "stream",
     "text": [
      "22\n"
     ]
    }
   ],
   "source": [
    "print(x)"
   ]
  },
  {
   "cell_type": "code",
   "execution_count": null,
   "id": "1ff34924",
   "metadata": {},
   "outputs": [],
   "source": [
    "# It will automatically assign a data type for your variable."
   ]
  },
  {
   "cell_type": "code",
   "execution_count": 7,
   "id": "dc9ebbb8",
   "metadata": {},
   "outputs": [
    {
     "data": {
      "text/plain": [
       "int"
      ]
     },
     "execution_count": 7,
     "metadata": {},
     "output_type": "execute_result"
    }
   ],
   "source": [
    "type(x)"
   ]
  },
  {
   "cell_type": "code",
   "execution_count": 8,
   "id": "17d89e3b",
   "metadata": {},
   "outputs": [],
   "source": [
    "# Case Sensitivity"
   ]
  },
  {
   "cell_type": "code",
   "execution_count": 9,
   "id": "1b9b10ea",
   "metadata": {},
   "outputs": [],
   "source": [
    "y = 'Chocolate'"
   ]
  },
  {
   "cell_type": "code",
   "execution_count": 10,
   "id": "1860001f",
   "metadata": {},
   "outputs": [],
   "source": [
    "Y = 'Mint Chocolate Chip'"
   ]
  },
  {
   "cell_type": "code",
   "execution_count": 11,
   "id": "6387db9b",
   "metadata": {},
   "outputs": [
    {
     "name": "stdout",
     "output_type": "stream",
     "text": [
      "Mint Chocolate Chip\n"
     ]
    }
   ],
   "source": [
    "print(Y)"
   ]
  },
  {
   "cell_type": "code",
   "execution_count": null,
   "id": "3b3e0a64",
   "metadata": {},
   "outputs": [],
   "source": []
  }
 ],
 "metadata": {
  "kernelspec": {
   "display_name": "Python 3 (ipykernel)",
   "language": "python",
   "name": "python3"
  },
  "language_info": {
   "codemirror_mode": {
    "name": "ipython",
    "version": 3
   },
   "file_extension": ".py",
   "mimetype": "text/x-python",
   "name": "python",
   "nbconvert_exporter": "python",
   "pygments_lexer": "ipython3",
   "version": "3.11.5"
  }
 },
 "nbformat": 4,
 "nbformat_minor": 5
}
