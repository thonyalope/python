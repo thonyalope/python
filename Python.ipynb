{
 "cells": [
  {
   "cell_type": "markdown",
   "id": "e59bc810",
   "metadata": {},
   "source": [
    "# Variables"
   ]
  },
  {
   "cell_type": "code",
   "execution_count": 9,
   "id": "97084416",
   "metadata": {},
   "outputs": [
    {
     "name": "stdout",
     "output_type": "stream",
     "text": [
      "22\n",
      "Mint Chocolate Chip\n"
     ]
    }
   ],
   "source": [
    "# Variables\n",
    "x = 22\n",
    "print(x)\n",
    "\n",
    "type(x)\n",
    "\n",
    "# Case Sensitivity\n",
    "y = 'Chocolate'\n",
    "Y = 'Mint Chocolate Chip'\n",
    "\n",
    "print(Y)"
   ]
  },
  {
   "cell_type": "markdown",
   "id": "98589712",
   "metadata": {},
   "source": [
    "# Statements & Operators"
   ]
  },
  {
   "cell_type": "code",
   "execution_count": 10,
   "id": "4cec3527",
   "metadata": {},
   "outputs": [
    {
     "name": "stdout",
     "output_type": "stream",
     "text": [
      "The price is 75 dollars. This is somewhat expensive\n"
     ]
    }
   ],
   "source": [
    "# IF Statements\n",
    "price = 75\n",
    "\n",
    "if price < 10:\n",
    "    print('The price is ' + str(price) + ' dollars. This is Cheap') #Add the str() after showing how it won't work - or use comma\n",
    "elif price < 40:\n",
    "    print('The price is ' + str(price) + ' dollars. This is a not very expensive')\n",
    "elif price < 100:\n",
    "    print('The price is ' + str(price) + ' dollars. This is somewhat expensive')\n",
    "else:\n",
    "    print('The price is ' + price + ' dollars. This is very expensive!')"
   ]
  },
  {
   "cell_type": "code",
   "execution_count": 11,
   "id": "f27e8ad9",
   "metadata": {},
   "outputs": [],
   "source": [
    "small_sale = []\n",
    "medium_sale = []\n",
    "large_sale = []"
   ]
  },
  {
   "cell_type": "code",
   "execution_count": 12,
   "id": "284adc6f",
   "metadata": {},
   "outputs": [],
   "source": [
    "sale = 200"
   ]
  },
  {
   "cell_type": "code",
   "execution_count": 13,
   "id": "486b970e",
   "metadata": {},
   "outputs": [],
   "source": [
    "if sale < 20:\n",
    "    small_sale.append(sale)\n",
    "elif sale < 50:\n",
    "    medium_sale.append(sale)\n",
    "else:\n",
    "    large_sale.append(sale)"
   ]
  },
  {
   "cell_type": "code",
   "execution_count": 14,
   "id": "c4ee32e5",
   "metadata": {},
   "outputs": [
    {
     "name": "stdout",
     "output_type": "stream",
     "text": [
      "Small Sale:  []\n",
      "Medium Sale:  []\n",
      "Large Sale:  [200]\n"
     ]
    }
   ],
   "source": [
    "print('Small Sale: ', small_sale)\n",
    "print('Medium Sale: ', medium_sale)\n",
    "print('Large Sale: ', large_sale)"
   ]
  },
  {
   "cell_type": "markdown",
   "id": "93a186c8",
   "metadata": {},
   "source": [
    "# FOR Loops"
   ]
  },
  {
   "cell_type": "code",
   "execution_count": 15,
   "id": "50188439",
   "metadata": {},
   "outputs": [],
   "source": [
    "sale_amount = [1,20.70,35.2,50,100,125,70.59,106.21,700]"
   ]
  },
  {
   "cell_type": "code",
   "execution_count": 16,
   "id": "02c358b0",
   "metadata": {},
   "outputs": [],
   "source": [
    "small_sale = []\n",
    "medium_sale = []\n",
    "large_sale = []"
   ]
  },
  {
   "cell_type": "code",
   "execution_count": 17,
   "id": "cb5df3e5",
   "metadata": {},
   "outputs": [],
   "source": [
    "for sale in sale_amount:\n",
    "    if sale < 50:\n",
    "        small_sale.append(sale)\n",
    "    elif sale < 100:\n",
    "        medium_sale.append(sale)\n",
    "    else:\n",
    "        large_sale.append(sale)"
   ]
  },
  {
   "cell_type": "code",
   "execution_count": 18,
   "id": "8eb03cf4",
   "metadata": {},
   "outputs": [
    {
     "name": "stdout",
     "output_type": "stream",
     "text": [
      "Small Sale:  [1, 20.7, 35.2]\n",
      "Medium Sale:  [50, 70.59]\n",
      "Large Sale:  [100, 125, 106.21, 700]\n"
     ]
    }
   ],
   "source": [
    "print('Small Sale: ', small_sale)\n",
    "print('Medium Sale: ', medium_sale)\n",
    "print('Large Sale: ', large_sale)"
   ]
  },
  {
   "cell_type": "markdown",
   "id": "8d7b8346",
   "metadata": {},
   "source": [
    "# Functions"
   ]
  },
  {
   "cell_type": "code",
   "execution_count": 19,
   "id": "c2843a4e",
   "metadata": {},
   "outputs": [],
   "source": [
    "def first_func():\n",
    "    print('We called our first function!')"
   ]
  },
  {
   "cell_type": "code",
   "execution_count": 20,
   "id": "568a4e1f",
   "metadata": {},
   "outputs": [
    {
     "name": "stdout",
     "output_type": "stream",
     "text": [
      "Alex did it!\n"
     ]
    }
   ],
   "source": [
    "def first_func(name):\n",
    "    print(name,'did it!')\n",
    "    \n",
    "first_func('Alex')"
   ]
  },
  {
   "cell_type": "code",
   "execution_count": 21,
   "id": "695d52d6",
   "metadata": {},
   "outputs": [
    {
     "name": "stdout",
     "output_type": "stream",
     "text": [
      "100\n",
      "100\n"
     ]
    },
    {
     "ename": "TypeError",
     "evalue": "unsupported operand type(s) for +: 'NoneType' and 'int'",
     "output_type": "error",
     "traceback": [
      "\u001b[1;31m---------------------------------------------------------------------------\u001b[0m",
      "\u001b[1;31mTypeError\u001b[0m                                 Traceback (most recent call last)",
      "Cell \u001b[1;32mIn[21], line 13\u001b[0m\n\u001b[0;32m     10\u001b[0m print_example()\n\u001b[0;32m     12\u001b[0m \u001b[38;5;66;03m#For this we will get an error\u001b[39;00m\n\u001b[1;32m---> 13\u001b[0m print_example() \u001b[38;5;241m+\u001b[39m \u001b[38;5;241m100\u001b[39m\n\u001b[0;32m     15\u001b[0m \u001b[38;5;66;03m#This will give us an output and perform the calculation\u001b[39;00m\n\u001b[0;32m     16\u001b[0m return_example() \u001b[38;5;241m+\u001b[39m \u001b[38;5;241m100\u001b[39m\n",
      "\u001b[1;31mTypeError\u001b[0m: unsupported operand type(s) for +: 'NoneType' and 'int'"
     ]
    }
   ],
   "source": [
    "# Print vs. return\n",
    "def return_example():\n",
    "    return 100\n",
    "\n",
    "return_example()\n",
    "\n",
    "def print_example():\n",
    "    print(100)\n",
    "\n",
    "print_example()\n",
    "\n",
    "#For this we will get an error\n",
    "print_example() + 100\n",
    "\n",
    "#This will give us an output and perform the calculation\n",
    "return_example() + 100"
   ]
  },
  {
   "cell_type": "markdown",
   "id": "d8d17cc7",
   "metadata": {},
   "source": [
    "# Converting Data Types"
   ]
  },
  {
   "cell_type": "code",
   "execution_count": 23,
   "id": "543e578e",
   "metadata": {},
   "outputs": [
    {
     "data": {
      "text/plain": [
       "int"
      ]
     },
     "execution_count": 23,
     "metadata": {},
     "output_type": "execute_result"
    }
   ],
   "source": [
    "num_int = 7\n",
    "type(num_int)"
   ]
  },
  {
   "cell_type": "code",
   "execution_count": 24,
   "id": "d876de15",
   "metadata": {},
   "outputs": [
    {
     "data": {
      "text/plain": [
       "str"
      ]
     },
     "execution_count": 24,
     "metadata": {},
     "output_type": "execute_result"
    }
   ],
   "source": [
    "num_str = '7'\n",
    "type(num_str)"
   ]
  },
  {
   "cell_type": "code",
   "execution_count": 25,
   "id": "74b3802e",
   "metadata": {},
   "outputs": [
    {
     "data": {
      "text/plain": [
       "int"
      ]
     },
     "execution_count": 25,
     "metadata": {},
     "output_type": "execute_result"
    }
   ],
   "source": [
    "num_str_conv = int(num_str)\n",
    "type(num_str_conv)"
   ]
  },
  {
   "cell_type": "code",
   "execution_count": 26,
   "id": "02dcfdcc",
   "metadata": {},
   "outputs": [
    {
     "name": "stdout",
     "output_type": "stream",
     "text": [
      "14\n"
     ]
    }
   ],
   "source": [
    "num_sum = num_int + num_str_conv\n",
    "print(num_sum)"
   ]
  },
  {
   "cell_type": "code",
   "execution_count": 27,
   "id": "09fba767",
   "metadata": {},
   "outputs": [
    {
     "data": {
      "text/plain": [
       "int"
      ]
     },
     "execution_count": 27,
     "metadata": {},
     "output_type": "execute_result"
    }
   ],
   "source": [
    "type(num_sum)"
   ]
  },
  {
   "cell_type": "code",
   "execution_count": 28,
   "id": "1efb9f9c",
   "metadata": {},
   "outputs": [
    {
     "data": {
      "text/plain": [
       "list"
      ]
     },
     "execution_count": 28,
     "metadata": {},
     "output_type": "execute_result"
    }
   ],
   "source": [
    "list_type = [1,2,3]\n",
    "type(list_type)"
   ]
  },
  {
   "cell_type": "code",
   "execution_count": 29,
   "id": "9f237c1a",
   "metadata": {},
   "outputs": [
    {
     "data": {
      "text/plain": [
       "tuple"
      ]
     },
     "execution_count": 29,
     "metadata": {},
     "output_type": "execute_result"
    }
   ],
   "source": [
    "type(tuple(list_type))"
   ]
  },
  {
   "cell_type": "code",
   "execution_count": 30,
   "id": "b1758c64",
   "metadata": {},
   "outputs": [],
   "source": [
    "list_type = [1,2,3,3,2,1,2,3,2,1]"
   ]
  },
  {
   "cell_type": "code",
   "execution_count": 32,
   "id": "4c0c863a",
   "metadata": {},
   "outputs": [
    {
     "data": {
      "text/plain": [
       "{1, 2, 3}"
      ]
     },
     "execution_count": 32,
     "metadata": {},
     "output_type": "execute_result"
    }
   ],
   "source": [
    "set(list_type)"
   ]
  },
  {
   "cell_type": "code",
   "execution_count": 33,
   "id": "77064cb5",
   "metadata": {},
   "outputs": [
    {
     "data": {
      "text/plain": [
       "dict"
      ]
     },
     "execution_count": 33,
     "metadata": {},
     "output_type": "execute_result"
    }
   ],
   "source": [
    "dict_type = {'name': 'Alex','age':28, 'hair': 'N/A'}\n",
    "type(dict_type)"
   ]
  },
  {
   "cell_type": "code",
   "execution_count": 34,
   "id": "cc246303",
   "metadata": {},
   "outputs": [
    {
     "data": {
      "text/plain": [
       "dict_items([('name', 'Alex'), ('age', 28), ('hair', 'N/A')])"
      ]
     },
     "execution_count": 34,
     "metadata": {},
     "output_type": "execute_result"
    }
   ],
   "source": [
    "dict_type.items()"
   ]
  },
  {
   "cell_type": "code",
   "execution_count": 35,
   "id": "1d45c2bd",
   "metadata": {},
   "outputs": [
    {
     "data": {
      "text/plain": [
       "dict_values(['Alex', 28, 'N/A'])"
      ]
     },
     "execution_count": 35,
     "metadata": {},
     "output_type": "execute_result"
    }
   ],
   "source": [
    "dict_type.values()"
   ]
  },
  {
   "cell_type": "code",
   "execution_count": 36,
   "id": "56a05e5d",
   "metadata": {},
   "outputs": [
    {
     "data": {
      "text/plain": [
       "dict_keys(['name', 'age', 'hair'])"
      ]
     },
     "execution_count": 36,
     "metadata": {},
     "output_type": "execute_result"
    }
   ],
   "source": [
    "dict_type.keys()"
   ]
  },
  {
   "cell_type": "code",
   "execution_count": 37,
   "id": "19b90ae1",
   "metadata": {},
   "outputs": [
    {
     "data": {
      "text/plain": [
       "list"
      ]
     },
     "execution_count": 37,
     "metadata": {},
     "output_type": "execute_result"
    }
   ],
   "source": [
    "type(list(dict_type.keys()))"
   ]
  },
  {
   "cell_type": "code",
   "execution_count": 38,
   "id": "0bf64f40",
   "metadata": {},
   "outputs": [
    {
     "data": {
      "text/plain": [
       "list"
      ]
     },
     "execution_count": 38,
     "metadata": {},
     "output_type": "execute_result"
    }
   ],
   "source": [
    "type(list(dict_type.values()))"
   ]
  }
 ],
 "metadata": {
  "kernelspec": {
   "display_name": "Python 3 (ipykernel)",
   "language": "python",
   "name": "python3"
  },
  "language_info": {
   "codemirror_mode": {
    "name": "ipython",
    "version": 3
   },
   "file_extension": ".py",
   "mimetype": "text/x-python",
   "name": "python",
   "nbconvert_exporter": "python",
   "pygments_lexer": "ipython3",
   "version": "3.11.5"
  }
 },
 "nbformat": 4,
 "nbformat_minor": 5
}
