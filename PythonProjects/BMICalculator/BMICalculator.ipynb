{
 "cells": [
  {
   "cell_type": "code",
   "execution_count": 1,
   "id": "a75986c8",
   "metadata": {},
   "outputs": [
    {
     "name": "stdout",
     "output_type": "stream",
     "text": [
      "Enter you name: Anthony\n",
      "Enter your height in cm: 183\n",
      "Enter your weight in kg: 85\n",
      "You BMI is 25.381468541909282\n",
      "Anthony, you are over weight.\n"
     ]
    }
   ],
   "source": [
    "name = input(\"Enter you name: \")\n",
    "height = float(input(\"Enter your height in cm: \"))\n",
    "weight = float(input(\"Enter your weight in kg: \"))\n",
    "\n",
    "BMI = weight / (height/100)**2\n",
    "\n",
    "print(f\"You BMI is {BMI}\")\n",
    "\n",
    "if BMI <= 18.4:\n",
    "    print(name +\", you are underweight.\")\n",
    "elif BMI <= 24.9:\n",
    "    print(name +\", you are healthy.\")\n",
    "elif BMI <= 29.9:\n",
    "    print(name +\", you are over weight.\")\n",
    "elif BMI <= 34.9:\n",
    "    print(name +\", you are severely over weight.\")\n",
    "elif BMI <= 39.9:\n",
    "    print(name +\", you are obese.\")\n",
    "else:\n",
    "    print(name +\", you are severely obese.\")"
   ]
  },
  {
   "cell_type": "code",
   "execution_count": null,
   "id": "0e16104f",
   "metadata": {},
   "outputs": [],
   "source": []
  }
 ],
 "metadata": {
  "kernelspec": {
   "display_name": "Python 3 (ipykernel)",
   "language": "python",
   "name": "python3"
  },
  "language_info": {
   "codemirror_mode": {
    "name": "ipython",
    "version": 3
   },
   "file_extension": ".py",
   "mimetype": "text/x-python",
   "name": "python",
   "nbconvert_exporter": "python",
   "pygments_lexer": "ipython3",
   "version": "3.11.5"
  }
 },
 "nbformat": 4,
 "nbformat_minor": 5
}
